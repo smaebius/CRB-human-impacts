{
 "cells": [
  {
   "cell_type": "markdown",
   "id": "a8aa6be4",
   "metadata": {},
   "source": [
    "### Load GEE Satellite Data\n",
    "Example code of downloading data from the GEE Community Catalog and the Earth Engine Data Catalog. Requires the use of the `rabpro` package. Additionally, the `ee` python package has to be configured to access your Google Earth Engine account prior to running the lines in this notebook. Replace `[GEE-PROJECT-NAME]` with the name of your project in the code editor.\n",
    "\n",
    "Climate/Anthropogenic Data:\n",
    "- [Rangeland Analysis Platform Layers](https://gee-community-catalog.org/projects/rap/)\n",
    "- [Land Change Monitoring, Assessment, and Projection (LCMAP)](https://gee-community-catalog.org/projects/lcmap/)\n",
    "- [JRC Monthly Water Recurrence](https://developers.google.com/earth-engine/datasets/catalog/JRC_GSW1_4_MonthlyRecurrence)\n",
    "\n",
    "The polygon geometries of the study basins are uploaded to the Google Earth Engine code editor as a shapefile."
   ]
  },
  {
   "cell_type": "code",
   "execution_count": null,
   "id": "ffe24e14",
   "metadata": {},
   "outputs": [],
   "source": [
    "import geopandas as gpd\n",
    "\n",
    "subbasins = gpd.read_file('Data/basins/attributes.gpkg')\n",
    "subbasins.geometry = subbasins.geometry.simplify(0.01)\n",
    "subbasins.to_file('Data/basins/attributes.shp')"
   ]
  },
  {
   "cell_type": "code",
   "execution_count": null,
   "id": "6bb13ca5",
   "metadata": {},
   "outputs": [],
   "source": [
    "import ee\n",
    "import os\n",
    "\n",
    "os.environ['http_proxy'] = 'http://proxyout.lanl.gov:8080'\n",
    "os.environ['https_proxy'] = 'http://proxyout.lanl.gov:8080'\n",
    "\n",
    "ee.Initialize()"
   ]
  },
  {
   "cell_type": "code",
   "execution_count": null,
   "id": "6a13d178",
   "metadata": {},
   "outputs": [],
   "source": [
    "import rabpro\n",
    "from rabpro.basin_stats import Dataset\n",
    "from rabpro import utils as ru\n",
    "from rabpro import data_utils as du\n",
    "import geopandas as gpd"
   ]
  },
  {
   "cell_type": "code",
   "execution_count": null,
   "id": "576d1eb9",
   "metadata": {},
   "outputs": [],
   "source": [
    "# GEE asset polygons\n",
    "project_name = '[GEE-PROJECT-NAME]'\n",
    "asset = 'projects/'+project_name+'/assets/vote_basins'\n",
    "\n",
    "# output .csvs folder\n",
    "gdrive_folder_name = 'vote_basins'\n",
    "\n",
    "# rabpro data dictionary\n",
    "hpu_datasets = {\n",
    "    'land_cover' : {'path' : 'projects/sat-io/open-datasets/LCMAP/LCPRI',\n",
    "                    'band' : 'b1',\n",
    "                    'stats' : ['freqhist'],\n",
    "                    'start': '1985-01-01',\n",
    "                    'end' : '2021-01-01'},\n",
    "    'veg_cover' : {'path' : 'projects/rap-data-365417/assets/vegetation-cover-v3',\n",
    "                 'band' : 'None',\n",
    "                 'stats' : ['freqhist'],\n",
    "                 'start' : '1986-01-01',\n",
    "                 'end' : '2021-01-01'}\n",
    "    'monthly_recurrence' : {'path' : 'JRC/GSW1_4/MonthlyRecurrence',\n",
    "                            'band' : 'monthly_recurrence',\n",
    "                            'stats' : ['sum'],\n",
    "                            'start': '1985-01-01',\n",
    "                            'end' : '2021-12-31'},\n",
    "    }"
   ]
  },
  {
   "cell_type": "code",
   "execution_count": null,
   "id": "885d62e2",
   "metadata": {},
   "outputs": [],
   "source": [
    "dataset_list = []\n",
    "for key in hpu_datasets:\n",
    "    this_ds = hpu_datasets[key]\n",
    "    mosaic, start, end = False, None, None\n",
    "    if this_ds == 'custom':\n",
    "        continue\n",
    "    if 'mosaic' in this_ds.keys() and this_ds['mosaic'] is True:\n",
    "        mosaic = True\n",
    "    if 'start' in this_ds.keys():\n",
    "        start = this_ds['start']\n",
    "    if 'end' in this_ds.keys():\n",
    "        end = this_ds['end']\n",
    "        \n",
    "    dataset_list.append(Dataset(this_ds['path'], this_ds['band'],\n",
    "#                                 this_ds['start'], this_ds['end'],\n",
    "                                stats=this_ds['stats'], mosaic=mosaic))\n",
    "    \n",
    "# access datasets\n",
    "urls, tasks = rabpro.basin_stats.compute(dataset_list,\n",
    "                           gee_feature_path=asset,\n",
    "                           folder=gdrive_folder_name,\n",
    "                                        validate_dataset_list=False)"
   ]
  },
  {
   "cell_type": "markdown",
   "id": "233ee585",
   "metadata": {},
   "source": [
    "After executing these lines, move the data from your Google Drive folder to the following directory: `Data/gee/`."
   ]
  }
 ],
 "metadata": {
  "kernelspec": {
   "display_name": "Python [conda env:miniconda3-vote] *",
   "language": "python",
   "name": "conda-env-miniconda3-vote-py"
  },
  "language_info": {
   "codemirror_mode": {
    "name": "ipython",
    "version": 3
   },
   "file_extension": ".py",
   "mimetype": "text/x-python",
   "name": "python",
   "nbconvert_exporter": "python",
   "pygments_lexer": "ipython3",
   "version": "3.9.15"
  }
 },
 "nbformat": 4,
 "nbformat_minor": 5
}
